{
  "nbformat": 4,
  "nbformat_minor": 0,
  "metadata": {
    "colab": {
      "provenance": []
    },
    "kernelspec": {
      "name": "python3",
      "display_name": "Python 3"
    },
    "language_info": {
      "name": "python"
    }
  },
  "cells": [
    {
      "cell_type": "code",
      "execution_count": 1,
      "metadata": {
        "colab": {
          "base_uri": "https://localhost:8080/"
        },
        "id": "iAbrLBFEWJn-",
        "outputId": "be5e2a05-c65f-4287-eb74-d7cb95190a90"
      },
      "outputs": [
        {
          "output_type": "stream",
          "name": "stdout",
          "text": [
            "Enter a Number (0-9): 6\n",
            "6  is  even\n"
          ]
        }
      ],
      "source": [
        "import numpy as np\n",
        "\n",
        "j = int(input(\"Enter a Number (0-9): \"))\n",
        "step_function = lambda x: 1 if x >= 0 else 0\n",
        "\n",
        "training_data = [\n",
        "    {'input': [1, 1, 0, 0, 0, 0], 'label': 1},\n",
        "    {'input': [1, 1, 0, 0, 0, 1], 'label': 0},\n",
        "    {'input': [1, 1, 0, 0, 1, 0], 'label': 1},\n",
        "    {'input': [1, 1, 0, 1, 1, 1], 'label': 0},\n",
        "    {'input': [1, 1, 0, 1, 0, 0], 'label': 1},\n",
        "    {'input': [1, 1, 0, 1, 0, 1], 'label': 0},\n",
        "    {'input': [1, 1, 0, 1, 1, 0], 'label': 1},\n",
        "    {'input': [1, 1, 0, 1, 1, 1], 'label': 0},\n",
        "    {'input': [1, 1, 1, 0, 0, 0], 'label': 1},\n",
        "    {'input': [1, 1, 1, 0, 0, 1], 'label': 0},\n",
        "]\n",
        "\n",
        "weights = np.array([0, 0, 0, 0, 0, 1])\n",
        "\n",
        "for data in training_data:\n",
        "    input = np.array(data['input'])\n",
        "    label = data['label']\n",
        "    output = step_function(np.dot(input, weights))\n",
        "    error = label - output\n",
        "    weights += input * error\n",
        "\n",
        "input = np.array([int(x) for x in list('{0:06b}'.format(j))])\n",
        "output = \"odd\" if step_function(np.dot(input, weights)) == 0 else \"even\"\n",
        "print(j, \" is \", output)\n"
      ]
    }
  ]
}